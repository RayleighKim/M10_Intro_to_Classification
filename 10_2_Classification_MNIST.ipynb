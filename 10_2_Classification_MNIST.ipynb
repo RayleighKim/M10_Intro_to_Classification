{
  "nbformat": 4,
  "nbformat_minor": 0,
  "metadata": {
    "colab": {
      "name": "10_2_Classification_MNIST.ipynb",
      "version": "0.3.2",
      "provenance": [],
      "collapsed_sections": [
        "N8eruHyUkrBJ",
        "EcooiW9MozGD",
        "NfcYY5Jb0-R4",
        "a7KarCyY2xR_"
      ],
      "include_colab_link": true
    },
    "kernelspec": {
      "name": "python3",
      "display_name": "Python 3"
    },
    "accelerator": "GPU"
  },
  "cells": [
    {
      "cell_type": "markdown",
      "metadata": {
        "id": "view-in-github",
        "colab_type": "text"
      },
      "source": [
        "[View in Colaboratory](https://colab.research.google.com/github/RayleighKim/M10_Intro_to_Classification/blob/master/10_2_Classification_MNIST.ipynb)"
      ]
    },
    {
      "metadata": {
        "id": "cVB9pY-v8uv5",
        "colab_type": "text"
      },
      "cell_type": "markdown",
      "source": [
        "# Intro to Classification 02\n",
        "\n",
        "## MNIST\n",
        "\n",
        "### Your name :     \n",
        "\n",
        "### Kaggle Link for exercise :\n",
        "* [Digit Recognizer](https://www.kaggle.com/c/digit-recognizer) : \n",
        "\n",
        "#### 실습목표<br>\n",
        "1. Scikit-Learn 을 이용하여 Logistic Regression을 할 줄 안다.\n",
        "2. Scikit-Learn 을 이용하여 Artificial Neural Network를 사용할 줄 안다.\n",
        "---------------\n",
        "Rayleigh Kim @ D:plus\n"
      ]
    },
    {
      "metadata": {
        "id": "GVvCef6A8uv6",
        "colab_type": "code",
        "colab": {}
      },
      "cell_type": "code",
      "source": [
        "'''\n",
        "matplolib inline 명령어를 통해서\n",
        "matplot으로 그리는 플롯들을 주피터 노트북 내에서 볼 수 있게 해준다.\n",
        "포맷을 retina로 바꾸면 그래프의 화질이 훨씬 좋아진다.\n",
        "'''\n",
        "%matplotlib inline\n",
        "%config InlineBackend.figure_format = 'retina'\n",
        "\n",
        "'''\n",
        "라이브러리들을 불러오자.\n",
        "'''\n",
        "import numpy as np\n",
        "import pandas as pd\n",
        "import matplotlib.pyplot as plt\n",
        "import tensorflow as tf\n",
        "import random as rd\n",
        "\n",
        "from sklearn.neural_network import MLPClassifier\n",
        "from sklearn.metrics import accuracy_score"
      ],
      "execution_count": 0,
      "outputs": []
    },
    {
      "metadata": {
        "id": "N8eruHyUkrBJ",
        "colab_type": "text"
      },
      "cell_type": "markdown",
      "source": [
        "## Data Loading & Preparation"
      ]
    },
    {
      "metadata": {
        "id": "4fIRYRQ1iN6H",
        "colab_type": "code",
        "colab": {}
      },
      "cell_type": "code",
      "source": [
        "(train_x, train_y), (test_x, test_y) = tf.keras.datasets.mnist.load_data()"
      ],
      "execution_count": 0,
      "outputs": []
    },
    {
      "metadata": {
        "id": "iFPy32c3kpxl",
        "colab_type": "code",
        "colab": {}
      },
      "cell_type": "code",
      "source": [
        "print(train_x.shape, train_y.shape, test_x.shape, test_y.shape)"
      ],
      "execution_count": 0,
      "outputs": []
    },
    {
      "metadata": {
        "id": "7LRAB0OAlR3d",
        "colab_type": "code",
        "colab": {}
      },
      "cell_type": "code",
      "source": [
        "'''\n",
        "Ctrl+Enter를 이용하여\n",
        "반복 실행 해보자!\n",
        "'''\n",
        "\n",
        "id = rd.randrange(0,10000)\n",
        "\n",
        "print('id = {}'.format(id))\n",
        "print('다음 그림은 숫자 {} 입니다.'.format(test_y[id]))\n",
        "plt.imshow(test_x[id])\n",
        "plt.show()"
      ],
      "execution_count": 0,
      "outputs": []
    },
    {
      "metadata": {
        "id": "NQBFtpvgoLvW",
        "colab_type": "text"
      },
      "cell_type": "markdown",
      "source": [
        "단순한 로지스틱 회귀, 뉴럴넷은 28x28의 2차원 데이터를 인풋으로 받지 못한다.\n",
        "\n",
        "이미지[28 by 28] 를 납작한 array [784] 로 바꿔줄 필요가 있다."
      ]
    },
    {
      "metadata": {
        "id": "-ZlcNv7Miclp",
        "colab_type": "code",
        "colab": {}
      },
      "cell_type": "code",
      "source": [
        "train_x = train_x.reshape([train_x.shape[0],-1])\n",
        "test_x = test_x.reshape([test_x.shape[0],-1])\n",
        "\n",
        "print(train_x.shape, test_x.shape)"
      ],
      "execution_count": 0,
      "outputs": []
    },
    {
      "metadata": {
        "id": "oUg_uZe1pN1E",
        "colab_type": "text"
      },
      "cell_type": "markdown",
      "source": [
        "이미지의 값이기 때문에 0 ~ 255 사이의 값을 갖는다.\n",
        "\n",
        "전부 0~1사이의 값을 갖도록 scale을 조정하자!"
      ]
    },
    {
      "metadata": {
        "id": "4rrrccEspYHj",
        "colab_type": "code",
        "colab": {}
      },
      "cell_type": "code",
      "source": [
        "print('max :', train_x.max(),'  min :', train_x.min())"
      ],
      "execution_count": 0,
      "outputs": []
    },
    {
      "metadata": {
        "id": "VwHPikDypVJ1",
        "colab_type": "code",
        "colab": {}
      },
      "cell_type": "code",
      "source": [
        "max_num = train_x.max()\n",
        "\n",
        "train_x = train_x/max_num\n",
        "test_x = test_x/max_num\n",
        "\n",
        "print('max :', train_x.max(),'  min :', train_x.min())"
      ],
      "execution_count": 0,
      "outputs": []
    },
    {
      "metadata": {
        "id": "EcooiW9MozGD",
        "colab_type": "text"
      },
      "cell_type": "markdown",
      "source": [
        "## Logistic(Softmax) Regression"
      ]
    },
    {
      "metadata": {
        "id": "JmAKNql2tn0U",
        "colab_type": "code",
        "colab": {}
      },
      "cell_type": "code",
      "source": [
        "logistic = MLPClassifier(hidden_layer_sizes=(),\n",
        "                         early_stopping=True ,verbose=True)"
      ],
      "execution_count": 0,
      "outputs": []
    },
    {
      "metadata": {
        "id": "J0YHq6Bct9kf",
        "colab_type": "code",
        "colab": {}
      },
      "cell_type": "code",
      "source": [
        "logistic.fit(train_x, train_y)"
      ],
      "execution_count": 0,
      "outputs": []
    },
    {
      "metadata": {
        "id": "4xMkZdF8tnqt",
        "colab_type": "code",
        "colab": {}
      },
      "cell_type": "code",
      "source": [
        "logistic_pred_train = logistic.predict(train_x)\n",
        "logistic_pred_test = logistic.predict(test_x)\n",
        "\n",
        "logi_train_accuracy = accuracy_score(train_y, logistic_pred_train)\n",
        "logi_test_accuracy = accuracy_score(test_y, logistic_pred_test)\n",
        "\n",
        "print('로지스틱 리그레션')\n",
        "print('트레이닝 정확도 : {:.2f}%'.format(logi_train_accuracy*100))\n",
        "print('테스트 정확도 : {:.2f}%'.format(logi_test_accuracy*100))"
      ],
      "execution_count": 0,
      "outputs": []
    },
    {
      "metadata": {
        "id": "3PbECVMKwf7M",
        "colab_type": "code",
        "colab": {}
      },
      "cell_type": "code",
      "source": [
        "'''\n",
        "성능 확인을 위해\n",
        "Ctrl+Enter를 이용하여\n",
        "반복 실행 해보자!\n",
        "'''\n",
        "\n",
        "id = rd.randrange(0,10000)\n",
        "\n",
        "print('id = {}'.format(id))\n",
        "print('다음 그림은 숫자 {} 입니다.'.format(test_y[id]))\n",
        "print('모델의 예측 : {}'.format(logistic_pred_test[id]))\n",
        "if test_y[id] == logistic_pred_test[id] :\n",
        "    print('정답입니다')\n",
        "else : \n",
        "    print('틀렸어요')\n",
        "plt.imshow(test_x[id].reshape([28,-1]))\n",
        "plt.show()"
      ],
      "execution_count": 0,
      "outputs": []
    },
    {
      "metadata": {
        "id": "a3GN43SQxmed",
        "colab_type": "code",
        "colab": {}
      },
      "cell_type": "code",
      "source": [
        "'''\n",
        "틀린 것만 관찰해보자!\n",
        "\n",
        "Ctrl+Enter를 이용하여\n",
        "반복 실행 해보자!\n",
        "'''\n",
        "\n",
        "true_false = (test_y == logistic_pred_test)\n",
        "f_id = np.where(true_false == False)[0]\n",
        "f_n = len(f_id)\n",
        "\n",
        "id = f_id[rd.randrange(0,f_n)]\n",
        "\n",
        " \n",
        "print('id = {}'.format(id))\n",
        "print('다음 그림은 숫자 {} 입니다.'.format(test_y[id]))\n",
        "print('모델의 예측 : {}'.format(logistic_pred_test[id]))\n",
        "if test_y[id] == logistic_pred_test[id] :\n",
        "    print('정답입니다')\n",
        "else : \n",
        "    print('틀렸어요')\n",
        "plt.imshow(test_x[id].reshape([28,-1]))\n",
        "plt.show()"
      ],
      "execution_count": 0,
      "outputs": []
    },
    {
      "metadata": {
        "id": "NfcYY5Jb0-R4",
        "colab_type": "text"
      },
      "cell_type": "markdown",
      "source": [
        "## Artificial Neural Networks"
      ]
    },
    {
      "metadata": {
        "id": "peCK-P6N1Bz1",
        "colab_type": "code",
        "colab": {}
      },
      "cell_type": "code",
      "source": [
        "ANN = MLPClassifier(hidden_layer_sizes=(512,),\n",
        "                         early_stopping=True ,verbose=True)"
      ],
      "execution_count": 0,
      "outputs": []
    },
    {
      "metadata": {
        "id": "G-ojsFDz1Lor",
        "colab_type": "code",
        "colab": {}
      },
      "cell_type": "code",
      "source": [
        "ANN.fit(train_x, train_y)"
      ],
      "execution_count": 0,
      "outputs": []
    },
    {
      "metadata": {
        "id": "tkFyd6EV1PEo",
        "colab_type": "code",
        "colab": {}
      },
      "cell_type": "code",
      "source": [
        "ann_pred_train = ANN.predict(train_x)\n",
        "ann_pred_test = ANN.predict(test_x)\n",
        "\n",
        "ann_train_accuracy = accuracy_score(train_y, ann_pred_train)\n",
        "ann_test_accuracy = accuracy_score(test_y, ann_pred_test)\n",
        "\n",
        "print('인공신경망')\n",
        "print('트레이닝 정확도 : {:.2f}%'.format(ann_train_accuracy*100))\n",
        "print('테스트 정확도 : {:.2f}%'.format(ann_test_accuracy*100))"
      ],
      "execution_count": 0,
      "outputs": []
    },
    {
      "metadata": {
        "id": "pizcot5q1ojs",
        "colab_type": "code",
        "colab": {}
      },
      "cell_type": "code",
      "source": [
        "'''\n",
        "성능 확인을 위해\n",
        "Ctrl+Enter를 이용하여\n",
        "반복 실행 해보자!\n",
        "'''\n",
        "\n",
        "id = rd.randrange(0,10000)\n",
        "\n",
        "print('id = {}'.format(id))\n",
        "print('다음 그림은 숫자 {} 입니다.'.format(test_y[id]))\n",
        "print('모델의 예측 : {}'.format(ann_pred_test[id]))\n",
        "if test_y[id] == ann_pred_test[id] :\n",
        "    print('정답입니다')\n",
        "else : \n",
        "    print('틀렸어요')\n",
        "plt.imshow(test_x[id].reshape([28,-1]))\n",
        "plt.show()"
      ],
      "execution_count": 0,
      "outputs": []
    },
    {
      "metadata": {
        "id": "EakhqHRb2EbI",
        "colab_type": "code",
        "colab": {}
      },
      "cell_type": "code",
      "source": [
        "'''\n",
        "틀린 것만 관찰해보자!\n",
        "\n",
        "Ctrl+Enter를 이용하여\n",
        "반복 실행 해보자!\n",
        "'''\n",
        "\n",
        "true_false = (test_y == ann_pred_test)\n",
        "f_id = np.where(true_false == False)[0]\n",
        "f_n = len(f_id)\n",
        "\n",
        "id = f_id[rd.randrange(0,f_n)]\n",
        "\n",
        " \n",
        "print('id = {}'.format(id))\n",
        "print('다음 그림은 숫자 {} 입니다.'.format(test_y[id]))\n",
        "print('모델의 예측 : {}'.format(ann_pred_test[id]))\n",
        "if test_y[id] == ann_pred_test[id] :\n",
        "    print('정답입니다')\n",
        "else : \n",
        "    print('틀렸어요')\n",
        "plt.imshow(test_x[id].reshape([28,-1]))\n",
        "plt.show()"
      ],
      "execution_count": 0,
      "outputs": []
    },
    {
      "metadata": {
        "id": "udGP9Uml14de",
        "colab_type": "code",
        "colab": {}
      },
      "cell_type": "code",
      "source": [
        ""
      ],
      "execution_count": 0,
      "outputs": []
    },
    {
      "metadata": {
        "id": "a7KarCyY2xR_",
        "colab_type": "text"
      },
      "cell_type": "markdown",
      "source": [
        "# 새로운 데이터로, 처음부터 실습!\n",
        "\n",
        "들어는 보았는가 Fashion MNIST?"
      ]
    },
    {
      "metadata": {
        "id": "ZwprwkB14otY",
        "colab_type": "code",
        "colab": {}
      },
      "cell_type": "code",
      "source": [
        "'''\n",
        "matplolib inline 명령어를 통해서\n",
        "matplot으로 그리는 플롯들을 주피터 노트북 내에서 볼 수 있게 해준다.\n",
        "포맷을 retina로 바꾸면 그래프의 화질이 훨씬 좋아진다.\n",
        "'''\n",
        "%matplotlib inline\n",
        "%config InlineBackend.figure_format = 'retina'\n",
        "\n",
        "'''\n",
        "라이브러리들을 불러오자.\n",
        "'''\n",
        "import numpy as np\n",
        "import pandas as pd\n",
        "import matplotlib.pyplot as plt\n",
        "import tensorflow as tf\n",
        "import random as rd\n",
        "\n",
        "from sklearn.neural_network import MLPClassifier\n",
        "from sklearn.metrics import accuracy_score"
      ],
      "execution_count": 0,
      "outputs": []
    },
    {
      "metadata": {
        "id": "CmCOv9oC25ln",
        "colab_type": "code",
        "colab": {}
      },
      "cell_type": "code",
      "source": [
        "(train_x, train_y), (test_x, test_y) = tf.keras.datasets.fashion_mnist.load_data()"
      ],
      "execution_count": 0,
      "outputs": []
    },
    {
      "metadata": {
        "id": "HQ4h-2ER2_Js",
        "colab_type": "code",
        "colab": {}
      },
      "cell_type": "code",
      "source": [
        "print(train_x.shape, train_y.shape, test_x.shape, test_y.shape)"
      ],
      "execution_count": 0,
      "outputs": []
    },
    {
      "metadata": {
        "id": "SnG832RJ3HRe",
        "colab_type": "code",
        "colab": {}
      },
      "cell_type": "code",
      "source": [
        "'''\n",
        "Ctrl+Enter를 이용하여\n",
        "반복 실행 해보자!\n",
        "'''\n",
        "\n",
        "labels = ['T-shirt/Top', 'Trouser', 'Pullover','Dress','Coat','Sandal','Shirt','Sneaker','Bag','Ankle boot']\n",
        "\n",
        "id = rd.randrange(0,10000)\n",
        "lid = test_y[id]\n",
        "\n",
        "print('id = {}'.format(id))\n",
        "print('다음 그림은 {} 입니다.'.format(labels[lid]) )\n",
        "plt.imshow(test_x[id])\n",
        "plt.show()"
      ],
      "execution_count": 0,
      "outputs": []
    },
    {
      "metadata": {
        "id": "GMjNNpxe3znH",
        "colab_type": "code",
        "colab": {}
      },
      "cell_type": "code",
      "source": [
        "###### Now, Your Turn!"
      ],
      "execution_count": 0,
      "outputs": []
    },
    {
      "metadata": {
        "id": "Nngp1Atf4HPZ",
        "colab_type": "code",
        "colab": {}
      },
      "cell_type": "code",
      "source": [
        ""
      ],
      "execution_count": 0,
      "outputs": []
    }
  ]
}