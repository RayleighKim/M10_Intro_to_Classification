{
  "nbformat": 4,
  "nbformat_minor": 0,
  "metadata": {
    "colab": {
      "name": "Hackathon2_Churn_Prediction.ipynb",
      "version": "0.3.2",
      "provenance": [],
      "collapsed_sections": [
        "9-gjgY655m0G",
        "Rt-QKOWx5m0I",
        "x2NkXNb-khFN",
        "2vuG_63H5m0k"
      ],
      "include_colab_link": true
    },
    "kernelspec": {
      "display_name": "Python 3",
      "language": "python",
      "name": "python3"
    }
  },
  "cells": [
    {
      "cell_type": "markdown",
      "metadata": {
        "id": "view-in-github",
        "colab_type": "text"
      },
      "source": [
        "[View in Colaboratory](https://colab.research.google.com/github/RayleighKim/M10_Intro_to_Classification/blob/master/Hackathon2_Churn_Prediction.ipynb)"
      ]
    },
    {
      "metadata": {
        "id": "FMwSTL0t5m0A",
        "colab_type": "text"
      },
      "cell_type": "markdown",
      "source": [
        "# Hackathon2\n",
        "\n",
        "## Churn Prediction!\n",
        "\n",
        "### Your name:\n",
        "\n",
        "#### 문제를 정의할 것\n",
        "* 무엇을 할지\n",
        "* 왜 하는 것인지\n",
        "* 어떻게 활용할 것인지\n",
        "\n",
        "#### 조건\n",
        "* Data Wrangling & Featrue Engineering 할 것.\n",
        "* 어떤 모델을 가져다가 사용해도 좋음\n",
        "* Scikit Leanr을 사용하기를 권장함.\n",
        "\n",
        "#### 목표 (둘중 하나를 만족할 것)\n",
        "* 이탈을 설명하라.\n",
        "* 성능!\n",
        "    * (Optional) 돈으로 연결짓는다면? 다음과 같은 시나리오가 나오면 좋다!\n",
        "        * 모델 성능은 유지된다고 가정\n",
        "        * 지난 달의 신규 고객 1000명 대상\n",
        "        * 실제 이탈 예정자들은 600명이 있다고 함.\n",
        "        * 인당 10000원이 소모되는 캠페인 A가 있음.\n",
        "        * 이탈예정자들은 A캠페인에 노출되면 평균적으로 15000원을 사용함\n",
        "        * 이탈예정자들은 A캠페인에 노출되지 않으면 돈 안씀\n",
        "        * 이탈안할 사람들은 A캠페인에 노출되든 안되든 그냥 와서 살만큼 삼 (A캠페인에 의한 매출 발생은 없다고 가정함)\n",
        "        * 기존의 방식은 그냥 1000명 전부에게 A캠페인을 실행함.\n",
        "        * 기존의 방식대로 하면 캠페인 비용 천만원, 캠페인으로 인한 매출 900만원.\n",
        "        * 내 예측 모델을 이용해 예측된 이탈후보자들에게만 캠페인을 진행한다면?\n",
        "---------------\n",
        "Rayleigh Kim @ D:plus"
      ]
    },
    {
      "metadata": {
        "id": "_L4cRixH5m0C",
        "colab_type": "code",
        "colab": {}
      },
      "cell_type": "code",
      "source": [
        "'''\n",
        "라이브러리들을 불러오자.\n",
        "'''\n",
        "import numpy as np\n",
        "import pandas as pd\n",
        "import matplotlib.pyplot as plt\n",
        "\n",
        "from sklearn.linear_model import LogisticRegression\n",
        "from sklearn.neighbors import KNeighborsClassifier\n",
        "from sklearn.ensemble import RandomForestClassifier\n",
        "\n",
        "from sklearn.metrics import confusion_matrix\n",
        "from sklearn.metrics import classification_report\n",
        "from sklearn.metrics import accuracy_score"
      ],
      "execution_count": 0,
      "outputs": []
    },
    {
      "metadata": {
        "id": "9-gjgY655m0G",
        "colab_type": "text"
      },
      "cell_type": "markdown",
      "source": [
        "## Data Loading & Preparation\n",
        "\n",
        "실습에서 생략된 다음의 과정을 충실히 진행해야 한다!\n",
        "\n",
        "Raw_data 에서, **어떤 과정**을 거치면 굉장히 잘 정돈된 Data를 얻게 된다.\n",
        "\n",
        "**어떤 과정이란 다음과 같다.**\n",
        "1. 원래 데이터는 어떻게 생겼는가?\n",
        "2. 문제 정의\n",
        "    * 이탈자는 어떻게 정의할 것인가.\n",
        "    * 어떤 기간의 데이터로, 어떤 기간을 예측할 것인가.\n",
        "3. **Data Wrangling & Feature Engineering**\n",
        "\n",
        "\n",
        "다음의 데이터들을 구경해보자.\n",
        "\n",
        "동시에, **(new주석)RetailChurnTemplate_FeatureEngg.xlsx** 파일을 열어서 감상하자.\n",
        "\n",
        "RetailChurnTemplate_FeatureEngg.csv와 같은 형태의 파일로 만들어내는 것이 우리의 목표이다.\n",
        "\n",
        "### 조건\n",
        "1. 이탈에 대한 정의를 명확히 할 것. 아래는 예시\n",
        "    * 최근 21일 이내 방문 없으면 이탈!\n",
        "    * 그렇다면 최근 21사이 신규 고객 전부 제거해야 함!\n",
        "    * 라벨링은 최근 21데이터로만 해야 함\n",
        "    * Data Wrangling & Feature Engineering은 최근 21일 데이터를 떼고 해야 함!\n",
        "2. Feature Engineering을 통해 Feature들을 만들어 낼 것!\n",
        "    * 반드시 실습 파일과 똑같은 것들을 재현할 필요는 없음\n",
        "    * 상상!\n",
        "\n",
        "\n",
        "    "
      ]
    },
    {
      "metadata": {
        "id": "rtmHGbpr-pyN",
        "colab_type": "code",
        "colab": {}
      },
      "cell_type": "code",
      "source": [
        "'''\n",
        "고객 정보 데이터\n",
        "'''\n",
        "user_info = pd.read_csv('https://raw.githubusercontent.com/RayleighKim/Example_datasets/master/RetailChurn_UserInfoData.csv')\n",
        "user_info.head()"
      ],
      "execution_count": 0,
      "outputs": []
    },
    {
      "metadata": {
        "id": "trxY6Zg_-7RB",
        "colab_type": "code",
        "colab": {}
      },
      "cell_type": "code",
      "source": [
        "'''\n",
        "Transaction 데이터\n",
        "'''\n",
        "\n",
        "raw_data = pd.read_csv('https://raw.githubusercontent.com/RayleighKim/Example_datasets/master/RetailChurn_Transaction.csv')\n",
        "raw_data.head()"
      ],
      "execution_count": 0,
      "outputs": []
    },
    {
      "metadata": {
        "id": "Rt-QKOWx5m0I",
        "colab_type": "text"
      },
      "cell_type": "markdown",
      "source": [
        "## Feature Engineering!\n",
        "\n",
        "### 위 두개의 데이터로 부터 아래와 같은 데이터를 만들어 내는 것이 목표다!\n",
        "\n",
        "* Dummy variable은 아직 신경쓰지 말 것\n",
        "* Group by, Join을 적극적으로 활용할 것!\n",
        "* Pandas 실습 파일을 적극 참고할 것!"
      ]
    },
    {
      "metadata": {
        "id": "ZggblOwm5m0I",
        "colab_type": "code",
        "colab": {}
      },
      "cell_type": "code",
      "source": [
        "churn = pd.read_csv('https://raw.githubusercontent.com/RayleighKim/Example_datasets/master/RetailChurnTemplate_FeatureEngg.csv')\n",
        "'''\n",
        "아래의 코드는 row를 셔플하기 위해 필요하다.\n",
        "'''\n",
        "churn = churn.sample(frac = 1, random_state = 2018).reset_index(drop=True)\n",
        "\n",
        "churn.head()"
      ],
      "execution_count": 0,
      "outputs": []
    },
    {
      "metadata": {
        "id": "zze2lWMpkRrB",
        "colab_type": "text"
      },
      "cell_type": "markdown",
      "source": [
        "Your Code!"
      ]
    },
    {
      "metadata": {
        "id": "KCs6FQ7QkU0F",
        "colab_type": "code",
        "colab": {}
      },
      "cell_type": "code",
      "source": [
        ""
      ],
      "execution_count": 0,
      "outputs": []
    },
    {
      "metadata": {
        "id": "d1fMsjgpkU2u",
        "colab_type": "code",
        "colab": {}
      },
      "cell_type": "code",
      "source": [
        ""
      ],
      "execution_count": 0,
      "outputs": []
    },
    {
      "metadata": {
        "id": "OWWGvIZSkU5G",
        "colab_type": "code",
        "colab": {}
      },
      "cell_type": "code",
      "source": [
        ""
      ],
      "execution_count": 0,
      "outputs": []
    },
    {
      "metadata": {
        "id": "xyZqKhoIkU7f",
        "colab_type": "code",
        "colab": {}
      },
      "cell_type": "code",
      "source": [
        ""
      ],
      "execution_count": 0,
      "outputs": []
    },
    {
      "metadata": {
        "id": "jho8EnVokU9l",
        "colab_type": "code",
        "colab": {}
      },
      "cell_type": "code",
      "source": [
        ""
      ],
      "execution_count": 0,
      "outputs": []
    },
    {
      "metadata": {
        "id": "OaLlxpMKkU_3",
        "colab_type": "code",
        "colab": {}
      },
      "cell_type": "code",
      "source": [
        ""
      ],
      "execution_count": 0,
      "outputs": []
    },
    {
      "metadata": {
        "id": "mOfbojLpkVB3",
        "colab_type": "code",
        "colab": {}
      },
      "cell_type": "code",
      "source": [
        "### Your Final Data\n",
        "\n",
        "print(churn.columns)\n",
        "churn.dtypes"
      ],
      "execution_count": 0,
      "outputs": []
    },
    {
      "metadata": {
        "id": "x2NkXNb-khFN",
        "colab_type": "text"
      },
      "cell_type": "markdown",
      "source": [
        "## Dummy & Drop"
      ]
    },
    {
      "metadata": {
        "id": "hYLhH95b5m0L",
        "colab_type": "code",
        "colab": {}
      },
      "cell_type": "code",
      "source": [
        "# User는 따로 떼어 둬야 어떤 User인지 알 수 있다.\n",
        "Users = churn[['UserId']]\n",
        "\n",
        "## 아래의 코드를 수정하여 사용할 것!\n",
        "## 버릴 컬럼들 꽤 많을수도 있음!\n",
        "# Unknown 투성이인 Gender 와 UserType을 버리자. \n",
        "churn_dropped = churn.drop(['UserId', 'Gender', 'UserType'], axis=1)\n",
        "churn_dropped.head()"
      ],
      "execution_count": 0,
      "outputs": []
    },
    {
      "metadata": {
        "id": "cHDUpTyH5m0O",
        "colab_type": "code",
        "colab": {}
      },
      "cell_type": "code",
      "source": [
        "# 어딘가에 있을지 모를 NA, NaN 등을 찾자. \n",
        "churn_dropped.isna().any()"
      ],
      "execution_count": 0,
      "outputs": []
    },
    {
      "metadata": {
        "id": "VwurI8sA5m0Q",
        "colab_type": "text"
      },
      "cell_type": "markdown",
      "source": [
        "더미를 이용하여 펼치자.\n",
        "\n",
        "컴퓨터는 A, B, C, D라고 입력되어 있어봤자 그걸 그대로 인식할 수 없다!"
      ]
    },
    {
      "metadata": {
        "id": "xqsHZHy-5m0Q",
        "colab_type": "code",
        "colab": {}
      },
      "cell_type": "code",
      "source": [
        "churn_dropped.head()"
      ],
      "execution_count": 0,
      "outputs": []
    },
    {
      "metadata": {
        "id": "dry7L41H5m0T",
        "colab_type": "code",
        "colab": {}
      },
      "cell_type": "code",
      "source": [
        "pd.get_dummies(churn_dropped[['Age','Address']]).head()"
      ],
      "execution_count": 0,
      "outputs": []
    },
    {
      "metadata": {
        "id": "1HikV_1k5m0W",
        "colab_type": "code",
        "colab": {}
      },
      "cell_type": "code",
      "source": [
        "churn_processed = pd.concat([churn_dropped, pd.get_dummies(churn_dropped[['Age','Address']])], axis=1).drop(['Age','Address'], axis=1)\n",
        "\n",
        "churn_processed['label'] = 1\n",
        "churn_processed.loc[churn_processed['Label']=='Nonchurner', 'label'] = 0\n",
        "\n",
        "churn_ready = churn_processed.drop('Label', axis=1)\n",
        "\n",
        "churn_ready.head()"
      ],
      "execution_count": 0,
      "outputs": []
    },
    {
      "metadata": {
        "id": "ripfCLjx5m0Y",
        "colab_type": "text"
      },
      "cell_type": "markdown",
      "source": [
        "## Train set, Test set\n",
        "\n",
        "특별한 문제가 없는 한, 아래의 셀은 그대로 실행되어야 한다."
      ]
    },
    {
      "metadata": {
        "id": "GugZ9mfE5m0Z",
        "colab_type": "code",
        "colab": {}
      },
      "cell_type": "code",
      "source": [
        "churn_processed.shape"
      ],
      "execution_count": 0,
      "outputs": []
    },
    {
      "metadata": {
        "id": "qmH86Uiv5m0c",
        "colab_type": "code",
        "colab": {}
      },
      "cell_type": "code",
      "source": [
        "X_train, X_test, Y_train, Y_test = churn_ready.loc[:7000].drop('label', axis=1), \\\n",
        "churn_ready.loc[7001:].drop('label', axis=1),\\\n",
        "churn_ready.loc[:7000, 'label'],\\\n",
        "churn_ready.loc[7001:, 'label']"
      ],
      "execution_count": 0,
      "outputs": []
    },
    {
      "metadata": {
        "id": "ZL9Hea_c5m0h",
        "colab_type": "code",
        "colab": {}
      },
      "cell_type": "code",
      "source": [
        "print(X_train.shape, X_test.shape, Y_train.shape, Y_test.shape)"
      ],
      "execution_count": 0,
      "outputs": []
    },
    {
      "metadata": {
        "id": "2vuG_63H5m0k",
        "colab_type": "text"
      },
      "cell_type": "markdown",
      "source": [
        "## Modeling!\n",
        "\n",
        "아래의 셀은 특별한 문제가 없다면 그냥 실행되어야 한다.\n",
        "\n",
        "* 선택지1 : Feature Engineering만으로 승부를 본다. 위에서 Feature Engineering 해가며 아래 셀을 실행하여 성능을 관찰한다.\n",
        "* 선택지2 : Scikit-Learn을 이용하여 여러 모델들을 사용해본다. "
      ]
    },
    {
      "metadata": {
        "id": "p0Z3xgkp5m0l",
        "colab_type": "code",
        "colab": {}
      },
      "cell_type": "code",
      "source": [
        "clf = LogisticRegression()\n",
        "clf.fit(X_train, Y_train)\n",
        "Y_pred = clf.predict(X_test)\n",
        "Y_pred_train = clf.predict(X_train)\n",
        "\n",
        "print('트레이닝 7001명 중 실제 churner의 비율 : ',Y_train.mean())\n",
        "print('트레이닝 7001명에 대해서 예측된 churner의 비율 :', Y_pred_train.mean())\n",
        "print('모델의 트레이닝셋위의 정확도는 : {:.2f}%'.format(clf.score(X_train, Y_train)*100))\n",
        "\n",
        "print('--------------------------------------------')\n",
        "\n",
        "print('테스트 n명 중 실제 churner의 비율 : ',Y_test.mean())\n",
        "print('테스트 n명에 대해서 예측된 churner의 비율 :', Y_pred.mean())\n",
        "print('모델의 테스트셋위의 정확도는 : {:.2f}%'.format(clf.score(X_test, Y_test)*100))\n",
        "\n",
        "\n",
        "print('---------------------------------------------')\n",
        "print(confusion_matrix(Y_test,Y_pred).T)\n",
        "\n",
        "\n",
        "print('---------------------------------------------')\n",
        "print('precision : True라고 예측한 것 중 진짜 True 비율')\n",
        "print('recall : 진짜 True 중 True라고 예측된 것의 비율')\n",
        "print(classification_report(Y_test, Y_pred, target_names=('Non-churner','churner')))\n",
        "pd.DataFrame({'colnames':X_train.columns, 'coef':clf.coef_.reshape(-1,)})"
      ],
      "execution_count": 0,
      "outputs": []
    },
    {
      "metadata": {
        "id": "RgBiCER-k-Wj",
        "colab_type": "code",
        "colab": {}
      },
      "cell_type": "code",
      "source": [
        ""
      ],
      "execution_count": 0,
      "outputs": []
    }
  ]
}