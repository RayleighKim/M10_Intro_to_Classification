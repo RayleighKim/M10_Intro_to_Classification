{
  "nbformat": 4,
  "nbformat_minor": 0,
  "metadata": {
    "colab": {
      "name": "10_1_Churn_Prediction.ipynb",
      "version": "0.3.2",
      "provenance": [],
      "collapsed_sections": [
        "9-gjgY655m0G",
        "ripfCLjx5m0Y",
        "2vuG_63H5m0k",
        "HGjP9xdg5m0o",
        "tHIJnOZl5m0s"
      ],
      "include_colab_link": true
    },
    "kernelspec": {
      "display_name": "Python 3",
      "language": "python",
      "name": "python3"
    }
  },
  "cells": [
    {
      "cell_type": "markdown",
      "metadata": {
        "id": "view-in-github",
        "colab_type": "text"
      },
      "source": [
        "[View in Colaboratory](https://colab.research.google.com/github/RayleighKim/M10_Intro_to_Classification/blob/master/10_1_Churn_Prediction.ipynb)"
      ]
    },
    {
      "metadata": {
        "id": "FMwSTL0t5m0A",
        "colab_type": "text"
      },
      "cell_type": "markdown",
      "source": [
        "# Intro to Classification 01\n",
        "\n",
        "## Churn Prediction!\n",
        "\n",
        "### Your name:\n",
        "\n",
        "#### 실습목표<br>\n",
        "1. Scikit-Learn 을 이용하여 Logistic Regression을 할 줄 안다.\n",
        "2. Scikit-Learn 을 이용하여 Artificial Neural Network를 사용할 줄 안다.\n",
        "---------------\n",
        "Rayleigh Kim @ D:plus"
      ]
    },
    {
      "metadata": {
        "id": "_L4cRixH5m0C",
        "colab_type": "code",
        "colab": {}
      },
      "cell_type": "code",
      "source": [
        "'''\n",
        "라이브러리들을 불러오자.\n",
        "'''\n",
        "import numpy as np\n",
        "import pandas as pd\n",
        "import matplotlib.pyplot as plt\n",
        "\n",
        "from sklearn.linear_model import LogisticRegression\n",
        "from sklearn.neighbors import KNeighborsClassifier\n",
        "from sklearn.ensemble import RandomForestClassifier\n",
        "\n",
        "from sklearn.metrics import confusion_matrix\n",
        "from sklearn.metrics import classification_report\n",
        "from sklearn.metrics import accuracy_score"
      ],
      "execution_count": 0,
      "outputs": []
    },
    {
      "metadata": {
        "id": "9-gjgY655m0G",
        "colab_type": "text"
      },
      "cell_type": "markdown",
      "source": [
        "## Data Loading & Preparation\n",
        "\n",
        "이번 실습은 다음의 정말 중요한 과정이 생략될 것이다.\n",
        "\n",
        "Raw_data 에서, **어떤 과정**을 거치면 굉장히 잘 정돈된 Data를 얻게 된다.\n",
        "\n",
        "**어떤 과정이란 다음과 같다.**\n",
        "1. 원래 데이터는 어떻게 생겼는가?\n",
        "2. 문제 정의\n",
        "    * 이탈자는 어떻게 정의할 것인가.\n",
        "    * 어떤 기간의 데이터로, 어떤 기간을 예측할 것인가.\n",
        "3. Data Wrangling & Feature Engineering\n",
        "\n",
        "\n",
        "다음의 데이터들을 구경해보자. 로컬에서 csv파일을 엑셀로 열어도 좋다.\n",
        "\n",
        "동시에, **(new주석)RetailChurnTemplate_FeatureEngg.xlsx** 파일을 열어서 감상하자.\n",
        "\n",
        "\n",
        "    "
      ]
    },
    {
      "metadata": {
        "id": "rtmHGbpr-pyN",
        "colab_type": "code",
        "colab": {}
      },
      "cell_type": "code",
      "source": [
        "'''\n",
        "고객 정보 데이터\n",
        "'''\n",
        "user_info = pd.read_csv('https://raw.githubusercontent.com/RayleighKim/Example_datasets/master/RetailChurn_UserInfoData.csv')\n",
        "user_info.head()"
      ],
      "execution_count": 0,
      "outputs": []
    },
    {
      "metadata": {
        "id": "trxY6Zg_-7RB",
        "colab_type": "code",
        "colab": {}
      },
      "cell_type": "code",
      "source": [
        "'''\n",
        "Transaction 데이터\n",
        "'''\n",
        "\n",
        "raw_data = pd.read_csv('https://raw.githubusercontent.com/RayleighKim/Example_datasets/master/RetailChurn_Transaction.csv')\n",
        "raw_data.head()"
      ],
      "execution_count": 0,
      "outputs": []
    },
    {
      "metadata": {
        "id": "Rt-QKOWx5m0I",
        "colab_type": "text"
      },
      "cell_type": "markdown",
      "source": [
        "하지만 우리는 바로 아래의 데이터를 사용할 것이다."
      ]
    },
    {
      "metadata": {
        "id": "ZggblOwm5m0I",
        "colab_type": "code",
        "colab": {}
      },
      "cell_type": "code",
      "source": [
        "churn = pd.read_csv('https://raw.githubusercontent.com/RayleighKim/Example_datasets/master/RetailChurnTemplate_FeatureEngg.csv')\n",
        "'''\n",
        "아래의 코드는 row를 셔플하기 위해 필요하다.\n",
        "'''\n",
        "churn = churn.sample(frac = 1, random_state = 2018).reset_index(drop=True)\n",
        "\n",
        "churn.head()"
      ],
      "execution_count": 0,
      "outputs": []
    },
    {
      "metadata": {
        "id": "hYLhH95b5m0L",
        "colab_type": "code",
        "colab": {}
      },
      "cell_type": "code",
      "source": [
        "# User는 따로 떼어 둬야 어떤 User인지 알 수 있다.\n",
        "Users = churn[['UserId']]\n",
        "\n",
        "# Unknown 투성이인 Gender 와 UserType을 버리자\n",
        "churn_dropped = churn.drop(['UserId', 'Gender', 'UserType'], axis=1)\n",
        "churn_dropped.head()"
      ],
      "execution_count": 0,
      "outputs": []
    },
    {
      "metadata": {
        "id": "cHDUpTyH5m0O",
        "colab_type": "code",
        "colab": {}
      },
      "cell_type": "code",
      "source": [
        "# 어딘가에 있을지 모를 NA, NaN 등을 찾자. \n",
        "churn_dropped.isna().any()"
      ],
      "execution_count": 0,
      "outputs": []
    },
    {
      "metadata": {
        "id": "VwurI8sA5m0Q",
        "colab_type": "text"
      },
      "cell_type": "markdown",
      "source": [
        "더미를 이용하여 펼치자.\n",
        "\n",
        "컴퓨터는 A, B, C, D라고 입력되어 있어봤자 그걸 그대로 인식할 수 없다!"
      ]
    },
    {
      "metadata": {
        "id": "xqsHZHy-5m0Q",
        "colab_type": "code",
        "colab": {}
      },
      "cell_type": "code",
      "source": [
        "churn_dropped.head()"
      ],
      "execution_count": 0,
      "outputs": []
    },
    {
      "metadata": {
        "id": "dry7L41H5m0T",
        "colab_type": "code",
        "colab": {}
      },
      "cell_type": "code",
      "source": [
        "pd.get_dummies(churn_dropped[['Age','Address']]).head()"
      ],
      "execution_count": 0,
      "outputs": []
    },
    {
      "metadata": {
        "id": "1HikV_1k5m0W",
        "colab_type": "code",
        "colab": {}
      },
      "cell_type": "code",
      "source": [
        "churn_processed = pd.concat([churn_dropped, pd.get_dummies(churn_dropped[['Age','Address']])], axis=1).drop(['Age','Address'], axis=1)\n",
        "\n",
        "churn_processed['label'] = 1\n",
        "churn_processed.loc[churn_processed['Label']=='Nonchurner', 'label'] = 0\n",
        "\n",
        "churn_ready = churn_processed.drop('Label', axis=1)\n",
        "\n",
        "churn_ready.head()"
      ],
      "execution_count": 0,
      "outputs": []
    },
    {
      "metadata": {
        "id": "ripfCLjx5m0Y",
        "colab_type": "text"
      },
      "cell_type": "markdown",
      "source": [
        "## Train set, Test set\n",
        "\n",
        "시계열은 아니다!\n",
        "\n",
        "데이터의 모양을 먼저 본다"
      ]
    },
    {
      "metadata": {
        "id": "GugZ9mfE5m0Z",
        "colab_type": "code",
        "colab": {}
      },
      "cell_type": "code",
      "source": [
        "churn_processed.shape"
      ],
      "execution_count": 0,
      "outputs": []
    },
    {
      "metadata": {
        "id": "qmH86Uiv5m0c",
        "colab_type": "code",
        "colab": {}
      },
      "cell_type": "code",
      "source": [
        "X_train, X_test, Y_train, Y_test = churn_ready.loc[:7000].drop('label', axis=1), \\\n",
        "churn_ready.loc[7001:].drop('label', axis=1),\\\n",
        "churn_ready.loc[:7000, 'label'],\\\n",
        "churn_ready.loc[7001:, 'label']"
      ],
      "execution_count": 0,
      "outputs": []
    },
    {
      "metadata": {
        "id": "ZL9Hea_c5m0h",
        "colab_type": "code",
        "colab": {}
      },
      "cell_type": "code",
      "source": [
        "print(X_train.shape, X_test.shape, Y_train.shape, Y_test.shape)"
      ],
      "execution_count": 0,
      "outputs": []
    },
    {
      "metadata": {
        "id": "2vuG_63H5m0k",
        "colab_type": "text"
      },
      "cell_type": "markdown",
      "source": [
        "## Logistic Regression"
      ]
    },
    {
      "metadata": {
        "id": "p0Z3xgkp5m0l",
        "colab_type": "code",
        "colab": {}
      },
      "cell_type": "code",
      "source": [
        "clf = LogisticRegression()\n",
        "clf.fit(X_train, Y_train)\n",
        "Y_pred = clf.predict(X_test)\n",
        "Y_pred_train = clf.predict(X_train)\n",
        "\n",
        "print('트레이닝 7001명 중 실제 churner의 비율 : ',Y_train.mean())\n",
        "print('트레이닝 7001명에 대해서 예측된 churner의 비율 :', Y_pred_train.mean())\n",
        "print('모델의 트레이닝셋위의 정확도는 : {:.2f}%'.format(clf.score(X_train, Y_train)*100))\n",
        "\n",
        "print('--------------------------------------------')\n",
        "\n",
        "print('테스트 2158명 중 실제 churner의 비율 : ',Y_test.mean())\n",
        "print('테스트 2158명에 대해서 예측된 churner의 비율 :', Y_pred.mean())\n",
        "print('모델의 테스트셋위의 정확도는 : {:.2f}%'.format(clf.score(X_test, Y_test)*100))\n",
        "\n",
        "\n",
        "print('---------------------------------------------')\n",
        "print(confusion_matrix(Y_test,Y_pred).T)\n",
        "\n",
        "\n",
        "print('---------------------------------------------')\n",
        "print('precision : True라고 예측한 것 중 진짜 True 비율')\n",
        "print('recall : 진짜 True 중 True라고 예측된 것의 비율')\n",
        "print(classification_report(Y_test, Y_pred, target_names=('Non-churner','churner')))\n",
        "pd.DataFrame({'colnames':X_train.columns, 'coef':clf.coef_.reshape(-1,)})"
      ],
      "execution_count": 0,
      "outputs": []
    },
    {
      "metadata": {
        "id": "HGjP9xdg5m0o",
        "colab_type": "text"
      },
      "cell_type": "markdown",
      "source": [
        "## K- nearest Neighbor  Classification"
      ]
    },
    {
      "metadata": {
        "id": "IeePtxux5m0p",
        "colab_type": "code",
        "colab": {}
      },
      "cell_type": "code",
      "source": [
        "# 아래의 n_neighbors를 바꿔가며 관찰해보자.\n",
        "\n",
        "clf = KNeighborsClassifier(n_neighbors = 30)\n",
        "clf.fit(X_train, Y_train)\n",
        "Y_pred = clf.predict(X_test)\n",
        "Y_pred_train = clf.predict(X_train)\n",
        "\n",
        "print('트레이닝 7001명 중 실제 churner의 비율 : ',Y_train.mean())\n",
        "print('트레이닝 7001명에 대해서 예측된 churner의 비율 :', Y_pred_train.mean())\n",
        "print('모델의 트레이닝셋위의 정확도는 : {:.2f}'.format(clf.score(X_train, Y_train)*100))\n",
        "\n",
        "print('--------------------------------------------')\n",
        "\n",
        "print('테스트 2158명 중 실제 churner의 비율 : ',Y_test.mean())\n",
        "print('테스트 2158명에 대해서 예측된 churner의 비율 :', Y_pred.mean())\n",
        "print('모델의 테스트셋위의 정확도는 : {:.2f}'.format(clf.score(X_test, Y_test)*100))\n",
        "\n",
        "\n",
        "print('---------------------------------------------')\n",
        "print(confusion_matrix(Y_test,Y_pred).T)\n",
        "\n",
        "\n",
        "print('---------------------------------------------')\n",
        "print('precision : True라고 예측한 것 중 진짜 True 비율')\n",
        "print('recall : 진짜 True 중 True라고 예측된 것의 비율')\n",
        "print(classification_report(Y_test, Y_pred, target_names=('Non-churner','churner')))\n"
      ],
      "execution_count": 0,
      "outputs": []
    },
    {
      "metadata": {
        "id": "tHIJnOZl5m0s",
        "colab_type": "text"
      },
      "cell_type": "markdown",
      "source": [
        "## Random Forest\n",
        "\n",
        "[공식 사이킷 런 문서](http://scikit-learn.org/stable/modules/generated/sklearn.ensemble.RandomForestClassifier.html) 를 참고하여 튜닝해보자.\n",
        "\n",
        "반드시 알아야 할 것은 다음과 같다.\n",
        "\n",
        "* n_estimators\n",
        "* max_depth\n",
        "* min_samples_split\n",
        "* min_samples_leaf\n",
        "* max_leaf_nodes\n"
      ]
    },
    {
      "metadata": {
        "id": "irYr1nRVJ0G_",
        "colab_type": "code",
        "colab": {}
      },
      "cell_type": "code",
      "source": [
        "# 아래의 n_neighbors를 바꿔가며 관찰해보자.\n",
        "\n",
        "clf = RandomForestClassifier(n_estimators = 30,\n",
        "                            max_depth = None,\n",
        "                            min_samples_split = 5,\n",
        "                            min_samples_leaf = 1,\n",
        "                            max_leaf_nodes = None)\n",
        "clf.fit(X_train, Y_train)\n",
        "Y_pred = clf.predict(X_test)\n",
        "Y_pred_train = clf.predict(X_train)\n",
        "\n",
        "print('트레이닝 7001명 중 실제 churner의 비율 : ',Y_train.mean())\n",
        "print('트레이닝 7001명에 대해서 예측된 churner의 비율 :', Y_pred_train.mean())\n",
        "print('모델의 트레이닝셋위의 정확도는 : {:.2f}'.format(clf.score(X_train, Y_train)*100))\n",
        "\n",
        "print('--------------------------------------------')\n",
        "\n",
        "print('테스트 2158명 중 실제 churner의 비율 : ',Y_test.mean())\n",
        "print('테스트 2158명에 대해서 예측된 churner의 비율 :', Y_pred.mean())\n",
        "print('모델의 테스트셋위의 정확도는 : {:.2f}'.format(clf.score(X_test, Y_test)*100))\n",
        "\n",
        "\n",
        "print('---------------------------------------------')\n",
        "print(confusion_matrix(Y_test,Y_pred).T)\n",
        "\n",
        "\n",
        "print('---------------------------------------------')\n",
        "print('precision : True라고 예측한 것 중 진짜 True 비율')\n",
        "print('recall : 진짜 True 중 True라고 예측된 것의 비율')\n",
        "print(classification_report(Y_test, Y_pred, target_names=('Non-churner','churner')))\n"
      ],
      "execution_count": 0,
      "outputs": []
    },
    {
      "metadata": {
        "id": "vJrSPe1dLfO-",
        "colab_type": "code",
        "colab": {}
      },
      "cell_type": "code",
      "source": [
        ""
      ],
      "execution_count": 0,
      "outputs": []
    }
  ]
}